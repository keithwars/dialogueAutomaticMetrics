{
 "cells": [
  {
   "cell_type": "markdown",
   "metadata": {},
   "source": [
    "### Imports"
   ]
  },
  {
   "cell_type": "code",
   "execution_count": 3,
   "metadata": {
    "collapsed": true
   },
   "outputs": [],
   "source": [
    "from nltk.translate.bleu_score import sentence_bleu\n",
    "from nltk.translate.bleu_score import corpus_bleu\n",
    "from nltk.translate.bleu_score import SmoothingFunction\n",
    "smoother = SmoothingFunction()\n",
    "import logging\n",
    "# logging.basicConfig(level=logging.INFO)\n",
    "import torch\n",
    "import matplotlib\n",
    "import matplotlib.pyplot as plt\n",
    "import seaborn as sns\n",
    "from tqdm import tqdm_notebook as tqdm\n",
    "import pandas as pd\n",
    "import csv\n",
    "import numpy as np\n",
    "import matplotlib\n",
    "import matplotlib.pyplot as plt\n",
    "import json\n",
    "import pandas as pd\n",
    "import nltk\n",
    "import re"
   ]
  },
  {
   "cell_type": "code",
   "execution_count": 4,
   "metadata": {},
   "outputs": [
    {
     "name": "stdout",
     "output_type": "stream",
     "text": [
      "1.0\n",
      "1.0\n"
     ]
    }
   ],
   "source": [
    "reference = [['this', 'is', 'a', 'test'], ['this', 'is' 'test']]\n",
    "candidate = ['this', 'is', 'a', 'test']\n",
    "score = sentence_bleu(reference, candidate)\n",
    "print(score)\n",
    "\n",
    "references = [[['this', 'is', 'a', 'test'], ['this', 'is' 'test']]]\n",
    "candidates = [['this', 'is', 'a', 'test']]\n",
    "score = corpus_bleu(references, candidates)\n",
    "print(score)"
   ]
  },
  {
   "cell_type": "code",
   "execution_count": 5,
   "metadata": {},
   "outputs": [
    {
     "ename": "StopIteration",
     "evalue": "",
     "output_type": "error",
     "traceback": [
      "\u001b[0;31m---------------------------------------------------------------------------\u001b[0m",
      "\u001b[0;31mStopIteration\u001b[0m                             Traceback (most recent call last)",
      "\u001b[0;32m<ipython-input-5-8202edf9f270>\u001b[0m in \u001b[0;36m<module>\u001b[0;34m\u001b[0m\n\u001b[1;32m      1\u001b[0m \u001b[0mreader\u001b[0m \u001b[0;34m=\u001b[0m \u001b[0mcsv\u001b[0m\u001b[0;34m.\u001b[0m\u001b[0mreader\u001b[0m\u001b[0;34m(\u001b[0m\u001b[0mopen\u001b[0m\u001b[0;34m(\u001b[0m\u001b[0;34m'data/parlAI_data.txt'\u001b[0m\u001b[0;34m,\u001b[0m \u001b[0mencoding\u001b[0m \u001b[0;34m=\u001b[0m \u001b[0;34m\"ISO-8859-1\"\u001b[0m\u001b[0;34m)\u001b[0m\u001b[0;34m)\u001b[0m\u001b[0;34m\u001b[0m\u001b[0;34m\u001b[0m\u001b[0m\n\u001b[0;32m----> 2\u001b[0;31m \u001b[0mheader\u001b[0m \u001b[0;34m=\u001b[0m \u001b[0mnext\u001b[0m\u001b[0;34m(\u001b[0m\u001b[0mreader\u001b[0m\u001b[0;34m)\u001b[0m\u001b[0;34m\u001b[0m\u001b[0;34m\u001b[0m\u001b[0m\n\u001b[0m\u001b[1;32m      3\u001b[0m \u001b[0mlines\u001b[0m \u001b[0;34m=\u001b[0m \u001b[0mlist\u001b[0m\u001b[0;34m(\u001b[0m\u001b[0mreader\u001b[0m\u001b[0;34m)\u001b[0m\u001b[0;34m\u001b[0m\u001b[0;34m\u001b[0m\u001b[0m\n\u001b[1;32m      4\u001b[0m \u001b[0;34m\u001b[0m\u001b[0m\n\u001b[1;32m      5\u001b[0m \u001b[0mpbar\u001b[0m \u001b[0;34m=\u001b[0m \u001b[0mtqdm\u001b[0m\u001b[0;34m(\u001b[0m\u001b[0mtotal\u001b[0m\u001b[0;34m=\u001b[0m\u001b[0mlen\u001b[0m\u001b[0;34m(\u001b[0m\u001b[0mlines\u001b[0m\u001b[0;34m)\u001b[0m\u001b[0;34m)\u001b[0m\u001b[0;34m\u001b[0m\u001b[0;34m\u001b[0m\u001b[0m\n",
      "\u001b[0;31mStopIteration\u001b[0m: "
     ]
    }
   ],
   "source": [
    "reader = csv.reader(open('data/parlAI_data.txt', encoding = \"ISO-8859-1\"))\n",
    "header = next(reader)\n",
    "lines = list(reader)\n",
    "\n",
    "pbar = tqdm(total=len(lines))\n",
    "for row in lines:\n",
    "    output = check_short_safe(row[9],row[10])\n",
    "    lines[int(row[0])][18] = output\n",
    "    pbar.update(1)\n",
    "pbar.close()\n",
    "\n",
    "# writer = csv.writer(open('data/MultiTurnOutputFinal_Safe.csv', 'w'))\n",
    "# writer.writerow(header)\n",
    "# writer.writerows(lines)"
   ]
  },
  {
   "cell_type": "code",
   "execution_count": 9,
   "metadata": {},
   "outputs": [
    {
     "name": "stdout",
     "output_type": "stream",
     "text": [
      "['so', 'vegan', 'i', 'have', 'dogs', 'maybe', 'i', 'should', 'told', 'then', 'that', 'they', 'may', 'eat', 'cheap', 'salads', 'insted', 'of', 'meat']\n",
      "['i', 'would', 'not', 'mind', 'having', 'them', 'in', 'the', 'office', 'that', 'would', 'be', 'hard', 'for', 'me']\n",
      "0.47500741480683945\n"
     ]
    }
   ],
   "source": [
    "import nltk\n",
    "statement = 'So vegan i have dogs maybe i should told then that they may eat cheap salads insted of meat'\n",
    "statement = statement.split()\n",
    "statement = [x.lower() for x in statement]\n",
    "\n",
    "print(statement)\n",
    "\n",
    "response = 'I would not mind having them in the office that would be hard for me'\n",
    "response = response.split()\n",
    "response = [x.lower() for x in response]\n",
    "\n",
    "print(response)\n",
    "\n",
    "hypothesis = statement\n",
    "reference = response\n",
    "#the maximum is bigram, so assign the weight into 2 half.\n",
    "BLEUscore = nltk.translate.bleu_score.sentence_bleu([reference], hypothesis, weights=(0.1,0.1),smoothing_function=smoother.method1)\n",
    "print(BLEUscore)"
   ]
  },
  {
   "cell_type": "code",
   "execution_count": 214,
   "metadata": {},
   "outputs": [
    {
     "data": {
      "application/vnd.jupyter.widget-view+json": {
       "model_id": "491a679b2c224c8988dbfc92e79e9d96"
      }
     },
     "metadata": {},
     "output_type": "display_data"
    }
   ],
   "source": [
    "df = pd.read_json ('data/summer_wild_evaluation_dialogs.json')\n",
    "dfObj = pd.DataFrame(columns = ['id','statement', 'response', 'bleu'])\n",
    "\n",
    "pbar = tqdm(total=len(df))\n",
    "for i in range(0, len(df)):\n",
    "    if (df['eval_score'][i] != 'null'):\n",
    "        if (len(df['dialog'][i])) > 2:\n",
    "            if ((df['dialog'][i][0]['sender_class']) == 'Bot'):\n",
    "                    skip_first = True\n",
    "            for j in range (0, len(df['dialog'][i])):\n",
    "                if skip_first:\n",
    "                    skip_first = False\n",
    "                else:\n",
    "                    if ((df['dialog'][i][j]['sender_class']) == (df['dialog'][i][j-1]['sender_class'])):\n",
    "                            continue\n",
    "                    else:\n",
    "                        if ((df['dialog'][i][j]['sender_class']) == 'Bot'):\n",
    "                            if ((df['dialog'][i][j]['text']) != 'Text is not given. Please try to type /end and /test to reset the state and get text.'):\n",
    "                                \n",
    "                                statement = (df['dialog'][i][j-1]['text'])\n",
    "                                statement = re.sub(r'[^\\w\\s]','',statement)\n",
    "                                statement = statement.split()\n",
    "                                statement = [[x.lower() for x in statement]]\n",
    "                                \n",
    "                                response = (df['dialog'][i][j]['text'])\n",
    "                                response = re.sub(r'[^\\w\\s]','',response)\n",
    "                                response = response.split()\n",
    "                                response = [x.lower() for x in response]\n",
    "                                \n",
    "                                score = nltk.translate.bleu_score.sentence_bleu(statement, response,smoothing_function=smoother.method1)\n",
    "#                                 score = sentence_bleu(statement, response)\n",
    "                                \n",
    "                                dfObj = dfObj.append({'id': i, 'statement': df['dialog'][i][j-1]['text'], 'response': df['dialog'][i][j]['text'], 'bleu': score }, ignore_index=True)\n",
    "                        else:\n",
    "                            continue\n",
    "    pbar.update(1)\n",
    "pbar.close()    \n",
    "dfObj.to_csv('data/summer_wild_evaluation_dialogs.csv', encoding='utf-8', index=False)\n",
    "# print(dfObj)"
   ]
  }
 ],
 "metadata": {
  "kernelspec": {
   "display_name": "Python 3",
   "language": "python",
   "name": "python3"
  },
  "language_info": {
   "codemirror_mode": {
    "name": "ipython",
    "version": 3
   },
   "file_extension": ".py",
   "mimetype": "text/x-python",
   "name": "python",
   "nbconvert_exporter": "python",
   "pygments_lexer": "ipython3",
   "version": "3.6.8"
  }
 },
 "nbformat": 4,
 "nbformat_minor": 2
}
